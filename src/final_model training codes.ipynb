{
  "nbformat": 4,
  "nbformat_minor": 0,
  "metadata": {
    "kernelspec": {
      "display_name": "Python 3",
      "language": "python",
      "name": "python3"
    },
    "language_info": {
      "codemirror_mode": {
        "name": "ipython",
        "version": 3
      },
      "file_extension": ".py",
      "mimetype": "text/x-python",
      "name": "python",
      "nbconvert_exporter": "python",
      "pygments_lexer": "ipython3",
      "version": "3.6.8"
    },
    "colab": {
      "name": "main.ipynb",
      "provenance": [],
      "collapsed_sections": [],
      "machine_shape": "hm"
    }
  },
  "cells": [
    {
      "cell_type": "code",
      "metadata": {
        "id": "MI0jBq-7J-o7",
        "colab_type": "code",
        "colab": {}
      },
      "source": [
        "# Code to read csv file into Colaboratory:\n",
        "!pip install -U -q PyDrive\n",
        "from pydrive.auth import GoogleAuth\n",
        "from pydrive.drive import GoogleDrive\n",
        "from google.colab import auth, files\n",
        "from oauth2client.client import GoogleCredentials\n",
        "# Authenticate and create the PyDrive client.\n",
        "auth.authenticate_user()\n",
        "gauth = GoogleAuth()\n",
        "gauth.credentials = GoogleCredentials.get_application_default()\n",
        "drive = GoogleDrive(gauth)"
      ],
      "execution_count": 0,
      "outputs": []
    },
    {
      "cell_type": "code",
      "metadata": {
        "id": "gOUQlkrkJ8WR",
        "colab_type": "code",
        "outputId": "923b90ea-bf2a-4117-a9d0-e29b4945a205",
        "colab": {
          "base_uri": "https://localhost:8080/",
          "height": 493
        }
      },
      "source": [
        "# -*- coding: UTF-8 -*-\n",
        "\n",
        "import pandas as pd\n",
        "import numpy as np\n",
        "\n",
        "downloaded = drive.CreateFile({'id':'1HZuB72isbfMsD8Geete4jE3BGYjq_crh'}) \n",
        "downloaded.GetContentFile('train_format1.csv')  \n",
        "train_df = pd.read_csv('train_format1.csv', dtype=str)\n",
        "# train_df = pd.read_csv('/Users/hanmufu/Workspaces/Repeat_Buyers_Prediction/data_format1/train_format1.csv', dtype=str)\n",
        "print(\"train_format1 loaded successful\")\n",
        "print(train_df.head())\n",
        "\n",
        "downloaded = drive.CreateFile({'id':'150ckojM6uQWLq0AJYxPR4IKHJcFiJDKG'}) \n",
        "downloaded.GetContentFile('user_log_format1.csv')  \n",
        "user_log_df = pd.read_csv('user_log_format1.csv', dtype=str)\n",
        "# user_log_df = pd.read_csv('/Users/hanmufu/Workspaces/Repeat_Buyers_Prediction/data_format1/user_log_format1.csv', dtype=str)\n",
        "print(\"user_log_format1 loaded successful\")\n",
        "print(user_log_df.head())\n",
        "\n",
        "downloaded = drive.CreateFile({'id':'1S3J8iOFgHiHlcwymw5WChH5KiAyPlfGK'}) \n",
        "downloaded.GetContentFile('user_info_format1.csv')  \n",
        "user_info_df = pd.read_csv('user_info_format1.csv', dtype=str)\n",
        "# user_info_df = pd.read_csv('/Users/hanmufu/Workspaces/Repeat_Buyers_Prediction/data_format1/user_info_format1.csv', dtype=str)\n",
        "print(\"user_info_format1 loaded successful\")\n",
        "print(user_info_df.head())\n",
        "\n",
        "downloaded = drive.CreateFile({'id':'1VwctgbmJScM1fBS22Nk5N8PiwMmNlwOX'}) \n",
        "downloaded.GetContentFile('test_format1.csv')  \n",
        "test_df = pd.read_csv('test_format1.csv', dtype=str)\n",
        "# test_df = pd.read_csv('/Users/hanmufu/Workspaces/Repeat_Buyers_Prediction/data_format1/test_format1.csv', dtype=str)\n",
        "print(\"test_df loaded successful\")\n",
        "print(test_df.head())"
      ],
      "execution_count": 2,
      "outputs": [
        {
          "output_type": "stream",
          "text": [
            "train_format1 loaded successful\n",
            "  user_id merchant_id label\n",
            "0   34176        3906     0\n",
            "1   34176         121     0\n",
            "2   34176        4356     1\n",
            "3   34176        2217     0\n",
            "4  230784        4818     0\n",
            "user_log_format1 loaded successful\n",
            "  user_id  item_id cat_id seller_id brand_id time_stamp action_type\n",
            "0  328862   323294    833      2882     2661       0829           0\n",
            "1  328862   844400   1271      2882     2661       0829           0\n",
            "2  328862   575153   1271      2882     2661       0829           0\n",
            "3  328862   996875   1271      2882     2661       0829           0\n",
            "4  328862  1086186   1271      1253     1049       0829           0\n",
            "user_info_format1 loaded successful\n",
            "  user_id age_range gender\n",
            "0  376517         6      1\n",
            "1  234512         5      0\n",
            "2  344532         5      0\n",
            "3  186135         5      0\n",
            "4   30230         5      0\n",
            "test_df loaded successful\n",
            "  user_id merchant_id prob\n",
            "0  163968        4605  NaN\n",
            "1  360576        1581  NaN\n",
            "2   98688        1964  NaN\n",
            "3   98688        3645  NaN\n",
            "4  295296        3361  NaN\n"
          ],
          "name": "stdout"
        }
      ]
    },
    {
      "cell_type": "code",
      "metadata": {
        "id": "eFOLSXW4NvgC",
        "colab_type": "code",
        "colab": {}
      },
      "source": [
        "# seperate month from time_stamp\n",
        "user_log_df['month'] = user_log_df['time_stamp'].str[:2]"
      ],
      "execution_count": 0,
      "outputs": []
    },
    {
      "cell_type": "code",
      "metadata": {
        "id": "-DxC0OfJJ8Wc",
        "colab_type": "code",
        "colab": {}
      },
      "source": [
        "user_log_df = user_log_df.rename(columns={'seller_id': 'merchant_id'})"
      ],
      "execution_count": 0,
      "outputs": []
    },
    {
      "cell_type": "code",
      "metadata": {
        "id": "dZixflSCPQTF",
        "colab_type": "code",
        "colab": {}
      },
      "source": [
        "# data cleaning\n",
        "values = {'brand_id': 0}\n",
        "user_log_df.fillna(value=values, inplace=True)\n",
        "values = {'age_range': 0, 'gender': 2}\n",
        "user_info_df.fillna(value=values, inplace=True)"
      ],
      "execution_count": 0,
      "outputs": []
    },
    {
      "cell_type": "code",
      "metadata": {
        "id": "6mwF7mwcJ8Wm",
        "colab_type": "code",
        "colab": {}
      },
      "source": [
        "# join users' age and gender into train_df\n",
        "train_df = pd.merge(train_df, user_info_df, on=['user_id'], how='left')\n",
        "test_df = pd.merge(test_df, user_info_df, on=['user_id'], how='left')"
      ],
      "execution_count": 0,
      "outputs": []
    },
    {
      "cell_type": "code",
      "metadata": {
        "id": "Q2Oc9nb2J8XR",
        "colab_type": "code",
        "colab": {}
      },
      "source": [
        "# Feature Engineering\n",
        "# Deviation of user's purchase between Nov and before\n",
        "user_actions_at_nov = user_log_df.loc[user_log_df['month'] == \"11\"]\n",
        "user_actions_at_nov = user_actions_at_nov.loc[user_actions_at_nov['action_type'] == \"2\"]\n",
        "user_actions_not_at_nov = user_log_df.loc[user_log_df['month'] != \"11\"]\n",
        "user_actions_not_at_nov = user_actions_not_at_nov.loc[user_actions_not_at_nov['action_type'] == \"2\"]\n",
        "user_actions_not_at_nov = user_actions_not_at_nov.groupby(['user_id', 'merchant_id', 'month'], as_index=False)['month'].agg({'cnt':'count'})\n",
        "user_actions_not_at_nov['user_id/merchant_id'] = user_actions_not_at_nov['user_id'] + '/' + user_actions_not_at_nov['merchant_id']\n",
        "user_actions_not_at_nov = user_actions_not_at_nov.pivot(index='user_id/merchant_id', columns='month', values='cnt')\n",
        "user_actions_not_at_nov = user_actions_not_at_nov.fillna(0)\n",
        "user_actions_not_at_nov['mean_of_num_of_actions_not_in_nov'] = user_actions_not_at_nov.mean(axis=1)\n",
        "user_actions_not_at_nov['user_id/merchant_id'] = user_actions_not_at_nov.index\n",
        "user_actions_not_at_nov['user_id'] = user_actions_not_at_nov['user_id/merchant_id'].str.split('/').str[0]\n",
        "user_actions_not_at_nov['merchant_id'] = user_actions_not_at_nov['user_id/merchant_id'].str.split('/').str[1]\n",
        "user_actions_at_nov = user_actions_at_nov.groupby(['user_id', 'merchant_id', 'month'], as_index=False)['month'].agg({'cnt':'count'})\n",
        "res = pd.merge(user_actions_at_nov, user_actions_not_at_nov, on=['user_id', 'merchant_id'])\n",
        "res['user_buy_deviation_between_nov_and_before'] = abs(res['cnt'] - res['mean_of_num_of_actions_not_in_nov'])\n",
        "res = res.loc[:, ['user_id', 'merchant_id', 'user_buy_deviation_between_nov_and_before']]\n",
        "train_df = pd.merge(train_df, res, on=['user_id', 'merchant_id'], how='left')\n",
        "test_df = pd.merge(test_df, res, on=['user_id', 'merchant_id'], how='left')\n",
        "# Deviation of user's click between Nov and before\n",
        "user_actions_at_nov = user_log_df.loc[user_log_df['month'] == \"11\"]\n",
        "user_actions_at_nov = user_actions_at_nov.loc[user_actions_at_nov['action_type'] == \"0\"]\n",
        "user_actions_not_at_nov = user_log_df.loc[user_log_df['month'] != \"11\"]\n",
        "user_actions_not_at_nov = user_actions_not_at_nov.loc[user_actions_not_at_nov['action_type'] == \"0\"]\n",
        "user_actions_not_at_nov = user_actions_not_at_nov.groupby(['user_id', 'merchant_id', 'month'], as_index=False)['month'].agg({'cnt':'count'})\n",
        "user_actions_not_at_nov['user_id/merchant_id'] = user_actions_not_at_nov['user_id'] + '/' + user_actions_not_at_nov['merchant_id']\n",
        "user_actions_not_at_nov = user_actions_not_at_nov.pivot(index='user_id/merchant_id', columns='month', values='cnt')\n",
        "user_actions_not_at_nov = user_actions_not_at_nov.fillna(0)\n",
        "user_actions_not_at_nov['mean_of_num_of_actions_not_in_nov'] = user_actions_not_at_nov.mean(axis=1)\n",
        "user_actions_not_at_nov['user_id/merchant_id'] = user_actions_not_at_nov.index\n",
        "user_actions_not_at_nov['user_id'] = user_actions_not_at_nov['user_id/merchant_id'].str.split('/').str[0]\n",
        "user_actions_not_at_nov['merchant_id'] = user_actions_not_at_nov['user_id/merchant_id'].str.split('/').str[1]\n",
        "user_actions_at_nov = user_actions_at_nov.groupby(['user_id', 'merchant_id', 'month'], as_index=False)['month'].agg({'cnt':'count'})\n",
        "res = pd.merge(user_actions_at_nov, user_actions_not_at_nov, on=['user_id', 'merchant_id'])\n",
        "res['user_click_deviation_between_nov_and_before'] = abs(res['cnt'] - res['mean_of_num_of_actions_not_in_nov'])\n",
        "res = res.loc[:, ['user_id', 'merchant_id', 'user_click_deviation_between_nov_and_before']]\n",
        "train_df = pd.merge(train_df, res, on=['user_id', 'merchant_id'], how='left')\n",
        "test_df = pd.merge(test_df, res, on=['user_id', 'merchant_id'], how='left')\n",
        "# Deviation of user's cart between Nov and before\n",
        "user_actions_at_nov = user_log_df.loc[user_log_df['month'] == \"11\"]\n",
        "user_actions_at_nov = user_actions_at_nov.loc[user_actions_at_nov['action_type'] == \"1\"]\n",
        "user_actions_not_at_nov = user_log_df.loc[user_log_df['month'] != \"11\"]\n",
        "user_actions_not_at_nov = user_actions_not_at_nov.loc[user_actions_not_at_nov['action_type'] == \"1\"]\n",
        "user_actions_not_at_nov = user_actions_not_at_nov.groupby(['user_id', 'merchant_id', 'month'], as_index=False)['month'].agg({'cnt':'count'})\n",
        "user_actions_not_at_nov['user_id/merchant_id'] = user_actions_not_at_nov['user_id'] + '/' + user_actions_not_at_nov['merchant_id']\n",
        "user_actions_not_at_nov = user_actions_not_at_nov.pivot(index='user_id/merchant_id', columns='month', values='cnt')\n",
        "user_actions_not_at_nov = user_actions_not_at_nov.fillna(0)\n",
        "user_actions_not_at_nov['mean_of_num_of_actions_not_in_nov'] = user_actions_not_at_nov.mean(axis=1)\n",
        "user_actions_not_at_nov['user_id/merchant_id'] = user_actions_not_at_nov.index\n",
        "user_actions_not_at_nov['user_id'] = user_actions_not_at_nov['user_id/merchant_id'].str.split('/').str[0]\n",
        "user_actions_not_at_nov['merchant_id'] = user_actions_not_at_nov['user_id/merchant_id'].str.split('/').str[1]\n",
        "user_actions_at_nov = user_actions_at_nov.groupby(['user_id', 'merchant_id', 'month'], as_index=False)['month'].agg({'cnt':'count'})\n",
        "res = pd.merge(user_actions_at_nov, user_actions_not_at_nov, on=['user_id', 'merchant_id'])\n",
        "res['user_cart_deviation_between_nov_and_before'] = abs(res['cnt'] - res['mean_of_num_of_actions_not_in_nov'])\n",
        "res = res.loc[:, ['user_id', 'merchant_id', 'user_cart_deviation_between_nov_and_before']]\n",
        "train_df = pd.merge(train_df, res, on=['user_id', 'merchant_id'], how='left')\n",
        "test_df = pd.merge(test_df, res, on=['user_id', 'merchant_id'], how='left')\n",
        "# Deviation of user's favorite between Nov and before\n",
        "user_actions_at_nov = user_log_df.loc[user_log_df['month'] == \"11\"]\n",
        "user_actions_at_nov = user_actions_at_nov.loc[user_actions_at_nov['action_type'] == \"3\"]\n",
        "user_actions_not_at_nov = user_log_df.loc[user_log_df['month'] != \"11\"]\n",
        "user_actions_not_at_nov = user_actions_not_at_nov.loc[user_actions_not_at_nov['action_type'] == \"3\"]\n",
        "user_actions_not_at_nov = user_actions_not_at_nov.groupby(['user_id', 'merchant_id', 'month'], as_index=False)['month'].agg({'cnt':'count'})\n",
        "user_actions_not_at_nov['user_id/merchant_id'] = user_actions_not_at_nov['user_id'] + '/' + user_actions_not_at_nov['merchant_id']\n",
        "user_actions_not_at_nov = user_actions_not_at_nov.pivot(index='user_id/merchant_id', columns='month', values='cnt')\n",
        "user_actions_not_at_nov = user_actions_not_at_nov.fillna(0)\n",
        "user_actions_not_at_nov['mean_of_num_of_actions_not_in_nov'] = user_actions_not_at_nov.mean(axis=1)\n",
        "user_actions_not_at_nov['user_id/merchant_id'] = user_actions_not_at_nov.index\n",
        "user_actions_not_at_nov['user_id'] = user_actions_not_at_nov['user_id/merchant_id'].str.split('/').str[0]\n",
        "user_actions_not_at_nov['merchant_id'] = user_actions_not_at_nov['user_id/merchant_id'].str.split('/').str[1]\n",
        "user_actions_at_nov = user_actions_at_nov.groupby(['user_id', 'merchant_id', 'month'], as_index=False)['month'].agg({'cnt':'count'})\n",
        "res = pd.merge(user_actions_at_nov, user_actions_not_at_nov, on=['user_id', 'merchant_id'])\n",
        "res['user_favorite_deviation_between_nov_and_before'] = abs(res['cnt'] - res['mean_of_num_of_actions_not_in_nov'])\n",
        "res = res.loc[:, ['user_id', 'merchant_id', 'user_favorite_deviation_between_nov_and_before']]\n",
        "train_df = pd.merge(train_df, res, on=['user_id', 'merchant_id'], how='left')\n",
        "test_df = pd.merge(test_df, res, on=['user_id', 'merchant_id'], how='left')"
      ],
      "execution_count": 0,
      "outputs": []
    },
    {
      "cell_type": "code",
      "metadata": {
        "id": "Re417576J8XY",
        "colab_type": "code",
        "colab": {}
      },
      "source": [
        "# Number of user purchase with this merchant before Nov\n",
        "user_actions_not_at_nov = user_log_df.loc[user_log_df['month'] != \"11\"]\n",
        "user_actions_not_at_nov = user_log_df.loc[user_log_df['action_type'] == \"2\"]\n",
        "user_actions_not_at_nov = user_actions_not_at_nov.groupby(['user_id', 'merchant_id'], as_index=False)['action_type'].agg({'num_of_buy_before_nov':'count'})\n",
        "train_df = pd.merge(train_df, user_actions_not_at_nov, on=['user_id', 'merchant_id'], how='left')\n",
        "test_df = pd.merge(test_df, user_actions_not_at_nov, on=['user_id', 'merchant_id'], how='left')\n",
        "# Number of user click with this merchant before Nov\n",
        "user_actions_not_at_nov = user_log_df.loc[user_log_df['month'] != \"11\"]\n",
        "user_actions_not_at_nov = user_log_df.loc[user_log_df['action_type'] == \"0\"]\n",
        "user_actions_not_at_nov = user_actions_not_at_nov.groupby(['user_id', 'merchant_id'], as_index=False)['action_type'].agg({'num_of_click_before_nov':'count'})\n",
        "train_df = pd.merge(train_df, user_actions_not_at_nov, on=['user_id', 'merchant_id'], how='left')\n",
        "test_df = pd.merge(test_df, user_actions_not_at_nov, on=['user_id', 'merchant_id'], how='left')\n",
        "# Number of user cart with this merchant before Nov\n",
        "user_actions_not_at_nov = user_log_df.loc[user_log_df['month'] != \"11\"]\n",
        "user_actions_not_at_nov = user_log_df.loc[user_log_df['action_type'] == \"1\"]\n",
        "user_actions_not_at_nov = user_actions_not_at_nov.groupby(['user_id', 'merchant_id'], as_index=False)['action_type'].agg({'num_of_cart_before_nov':'count'})\n",
        "train_df = pd.merge(train_df, user_actions_not_at_nov, on=['user_id', 'merchant_id'], how='left')\n",
        "test_df = pd.merge(test_df, user_actions_not_at_nov, on=['user_id', 'merchant_id'], how='left')\n",
        "# Number of user favorite with this merchant before Nov\n",
        "user_actions_not_at_nov = user_log_df.loc[user_log_df['month'] != \"11\"]\n",
        "user_actions_not_at_nov = user_log_df.loc[user_log_df['action_type'] == \"3\"]\n",
        "user_actions_not_at_nov = user_actions_not_at_nov.groupby(['user_id', 'merchant_id'], as_index=False)['action_type'].agg({'num_of_favorite_before_nov':'count'})\n",
        "train_df = pd.merge(train_df, user_actions_not_at_nov, on=['user_id', 'merchant_id'], how='left')\n",
        "test_df = pd.merge(test_df, user_actions_not_at_nov, on=['user_id', 'merchant_id'], how='left')"
      ],
      "execution_count": 0,
      "outputs": []
    },
    {
      "cell_type": "code",
      "metadata": {
        "id": "kjP-CV_SJ8Xe",
        "colab_type": "code",
        "colab": {}
      },
      "source": [
        "# mean and standard deviation of num of purchase per month between user and merchant (may - nov)\n",
        "user_actions_at_nov = user_log_df.loc[user_log_df['month'] == \"11\"]\n",
        "user_actions_at_nov = user_actions_at_nov.loc[user_actions_at_nov['action_type'] == \"2\"]\n",
        "user_actions_not_at_nov = user_log_df.loc[user_log_df['month'] != \"11\"]\n",
        "user_actions_not_at_nov = user_actions_not_at_nov.loc[user_actions_not_at_nov['action_type'] == \"2\"]\n",
        "user_actions_not_at_nov = user_actions_not_at_nov.groupby(['user_id', 'merchant_id', 'month'], as_index=False)['month'].agg({'cnt':'count'})\n",
        "user_actions_not_at_nov['user_id/merchant_id'] = user_actions_not_at_nov['user_id'] + '/' + user_actions_not_at_nov['merchant_id']\n",
        "user_actions_not_at_nov = user_actions_not_at_nov.pivot(index='user_id/merchant_id', columns='month', values='cnt')\n",
        "user_actions_not_at_nov = user_actions_not_at_nov.fillna(0)\n",
        "user_actions_not_at_nov['user_id/merchant_id'] = user_actions_not_at_nov.index\n",
        "user_actions_not_at_nov['user_id'] = user_actions_not_at_nov['user_id/merchant_id'].str.split('/').str[0]\n",
        "user_actions_not_at_nov['merchant_id'] = user_actions_not_at_nov['user_id/merchant_id'].str.split('/').str[1]\n",
        "user_actions_at_nov = user_actions_at_nov.groupby(['user_id', 'merchant_id', 'month'], as_index=False)['month'].agg({'cnt':'count'})\n",
        "res = pd.merge(user_actions_at_nov, user_actions_not_at_nov, on=['user_id', 'merchant_id'])\n",
        "res_for_mean_and_deviation = res.loc[:, ['cnt', '05', '06', '07', '08', '09', '10']]\n",
        "res['mean_for_buy_num_from_may_to_nov'] = res_for_mean_and_deviation.mean(axis=1)\n",
        "res['std_for_buy_num_from_may_to_nov'] = res_for_mean_and_deviation.std(axis=1)\n",
        "res = res.loc[:, ['user_id', 'merchant_id', 'mean_for_buy_num_from_may_to_nov', 'std_for_buy_num_from_may_to_nov']]\n",
        "train_df = pd.merge(train_df, res, on=['user_id', 'merchant_id'], how='left')\n",
        "test_df = pd.merge(test_df, res, on=['user_id', 'merchant_id'], how='left')\n",
        "# mean and standard deviation of num of clicks per month between user and merchant (may - nov)\n",
        "user_actions_at_nov = user_log_df.loc[user_log_df['month'] == \"11\"]\n",
        "user_actions_at_nov = user_actions_at_nov.loc[user_actions_at_nov['action_type'] == \"0\"]\n",
        "user_actions_not_at_nov = user_log_df.loc[user_log_df['month'] != \"11\"]\n",
        "user_actions_not_at_nov = user_actions_not_at_nov.loc[user_actions_not_at_nov['action_type'] == \"0\"]\n",
        "user_actions_not_at_nov = user_actions_not_at_nov.groupby(['user_id', 'merchant_id', 'month'], as_index=False)['month'].agg({'cnt':'count'})\n",
        "user_actions_not_at_nov['user_id/merchant_id'] = user_actions_not_at_nov['user_id'] + '/' + user_actions_not_at_nov['merchant_id']\n",
        "user_actions_not_at_nov = user_actions_not_at_nov.pivot(index='user_id/merchant_id', columns='month', values='cnt')\n",
        "user_actions_not_at_nov = user_actions_not_at_nov.fillna(0)\n",
        "user_actions_not_at_nov['user_id/merchant_id'] = user_actions_not_at_nov.index\n",
        "user_actions_not_at_nov['user_id'] = user_actions_not_at_nov['user_id/merchant_id'].str.split('/').str[0]\n",
        "user_actions_not_at_nov['merchant_id'] = user_actions_not_at_nov['user_id/merchant_id'].str.split('/').str[1]\n",
        "user_actions_at_nov = user_actions_at_nov.groupby(['user_id', 'merchant_id', 'month'], as_index=False)['month'].agg({'cnt':'count'})\n",
        "res = pd.merge(user_actions_at_nov, user_actions_not_at_nov, on=['user_id', 'merchant_id'])\n",
        "res_for_mean_and_deviation = res.loc[:, ['cnt', '05', '06', '07', '08', '09', '10']]\n",
        "res['mean_for_click_num_from_may_to_nov'] = res_for_mean_and_deviation.mean(axis=1)\n",
        "res['std_for_click_num_from_may_to_nov'] = res_for_mean_and_deviation.std(axis=1)\n",
        "res = res.loc[:, ['user_id', 'merchant_id', 'mean_for_click_num_from_may_to_nov', 'std_for_click_num_from_may_to_nov']]\n",
        "train_df = pd.merge(train_df, res, on=['user_id', 'merchant_id'], how='left')\n",
        "test_df = pd.merge(test_df, res, on=['user_id', 'merchant_id'], how='left')\n",
        "# mean and standard deviation of num of add-to-cart per month between user and merchant (may - nov)\n",
        "user_actions_at_nov = user_log_df.loc[user_log_df['month'] == \"11\"]\n",
        "user_actions_at_nov = user_actions_at_nov.loc[user_actions_at_nov['action_type'] == \"1\"]\n",
        "user_actions_not_at_nov = user_log_df.loc[user_log_df['month'] != \"11\"]\n",
        "user_actions_not_at_nov = user_actions_not_at_nov.loc[user_actions_not_at_nov['action_type'] == \"1\"]\n",
        "user_actions_not_at_nov = user_actions_not_at_nov.groupby(['user_id', 'merchant_id', 'month'], as_index=False)['month'].agg({'cnt':'count'})\n",
        "user_actions_not_at_nov['user_id/merchant_id'] = user_actions_not_at_nov['user_id'] + '/' + user_actions_not_at_nov['merchant_id']\n",
        "user_actions_not_at_nov = user_actions_not_at_nov.pivot(index='user_id/merchant_id', columns='month', values='cnt')\n",
        "user_actions_not_at_nov = user_actions_not_at_nov.fillna(0)\n",
        "user_actions_not_at_nov['user_id/merchant_id'] = user_actions_not_at_nov.index\n",
        "user_actions_not_at_nov['user_id'] = user_actions_not_at_nov['user_id/merchant_id'].str.split('/').str[0]\n",
        "user_actions_not_at_nov['merchant_id'] = user_actions_not_at_nov['user_id/merchant_id'].str.split('/').str[1]\n",
        "user_actions_at_nov = user_actions_at_nov.groupby(['user_id', 'merchant_id', 'month'], as_index=False)['month'].agg({'cnt':'count'})\n",
        "res = pd.merge(user_actions_at_nov, user_actions_not_at_nov, on=['user_id', 'merchant_id'])\n",
        "res_for_mean_and_deviation = res.loc[:, ['cnt', '05', '06', '07', '08', '09', '10']]\n",
        "res['mean_for_cart_num_from_may_to_nov'] = res_for_mean_and_deviation.mean(axis=1)\n",
        "res['std_for_cart_num_from_may_to_nov'] = res_for_mean_and_deviation.std(axis=1)\n",
        "res = res.loc[:, ['user_id', 'merchant_id', 'mean_for_cart_num_from_may_to_nov', 'std_for_cart_num_from_may_to_nov']]\n",
        "train_df = pd.merge(train_df, res, on=['user_id', 'merchant_id'], how='left')\n",
        "test_df = pd.merge(test_df, res, on=['user_id', 'merchant_id'], how='left')\n",
        "# mean and standard deviation of num of add-to-favorite per month between user and merchant (may - nov)\n",
        "user_actions_at_nov = user_log_df.loc[user_log_df['month'] == \"11\"]\n",
        "user_actions_at_nov = user_actions_at_nov.loc[user_actions_at_nov['action_type'] == \"3\"]\n",
        "user_actions_not_at_nov = user_log_df.loc[user_log_df['month'] != \"11\"]\n",
        "user_actions_not_at_nov = user_actions_not_at_nov.loc[user_actions_not_at_nov['action_type'] == \"3\"]\n",
        "user_actions_not_at_nov = user_actions_not_at_nov.groupby(['user_id', 'merchant_id', 'month'], as_index=False)['month'].agg({'cnt':'count'})\n",
        "user_actions_not_at_nov['user_id/merchant_id'] = user_actions_not_at_nov['user_id'] + '/' + user_actions_not_at_nov['merchant_id']\n",
        "user_actions_not_at_nov = user_actions_not_at_nov.pivot(index='user_id/merchant_id', columns='month', values='cnt')\n",
        "user_actions_not_at_nov = user_actions_not_at_nov.fillna(0)\n",
        "user_actions_not_at_nov['user_id/merchant_id'] = user_actions_not_at_nov.index\n",
        "user_actions_not_at_nov['user_id'] = user_actions_not_at_nov['user_id/merchant_id'].str.split('/').str[0]\n",
        "user_actions_not_at_nov['merchant_id'] = user_actions_not_at_nov['user_id/merchant_id'].str.split('/').str[1]\n",
        "user_actions_at_nov = user_actions_at_nov.groupby(['user_id', 'merchant_id', 'month'], as_index=False)['month'].agg({'cnt':'count'})\n",
        "res = pd.merge(user_actions_at_nov, user_actions_not_at_nov, on=['user_id', 'merchant_id'])\n",
        "res_for_mean_and_deviation = res.loc[:, ['cnt', '05', '06', '07', '08', '09', '10']]\n",
        "res['mean_for_favorite_num_from_may_to_nov'] = res_for_mean_and_deviation.mean(axis=1)\n",
        "res['std_for_favorite_num_from_may_to_nov'] = res_for_mean_and_deviation.std(axis=1)\n",
        "res = res.loc[:, ['user_id', 'merchant_id', 'mean_for_favorite_num_from_may_to_nov', 'std_for_favorite_num_from_may_to_nov']]\n",
        "train_df = pd.merge(train_df, res, on=['user_id', 'merchant_id'], how='left')\n",
        "test_df = pd.merge(test_df, res, on=['user_id', 'merchant_id'], how='left')"
      ],
      "execution_count": 0,
      "outputs": []
    },
    {
      "cell_type": "code",
      "metadata": {
        "id": "eq6C7h5lJ8Xt",
        "colab_type": "code",
        "colab": {}
      },
      "source": [
        "# number of days the merchant sells an item\n",
        "purchase_action = user_log_df.loc[user_log_df['action_type'] == \"2\"]\n",
        "purchase_action = purchase_action.groupby(['merchant_id'], as_index=False)['action_type'].agg({'merchant_sales':'count'})\n",
        "train_df = pd.merge(train_df, purchase_action, how='left')\n",
        "test_df = pd.merge(test_df, purchase_action, how='left')\n",
        "# number of days the merchant click an item\n",
        "purchase_action = user_log_df.loc[user_log_df['action_type'] == \"0\"]\n",
        "purchase_action = purchase_action.groupby(['merchant_id'], as_index=False)['action_type'].agg({'merchant_click':'count'})\n",
        "train_df = pd.merge(train_df, purchase_action, how='left')\n",
        "test_df = pd.merge(test_df, purchase_action, how='left')\n",
        "# number of days the merchant add-to-cart an item\n",
        "purchase_action = user_log_df.loc[user_log_df['action_type'] == \"1\"]\n",
        "purchase_action = purchase_action.groupby(['merchant_id'], as_index=False)['action_type'].agg({'merchant_add_to_cart':'count'})\n",
        "train_df = pd.merge(train_df, purchase_action, how='left')\n",
        "test_df = pd.merge(test_df, purchase_action, how='left')\n",
        "# number of days the merchant add-to-favorite an item\n",
        "purchase_action = user_log_df.loc[user_log_df['action_type'] == \"3\"]\n",
        "purchase_action = purchase_action.groupby(['merchant_id'], as_index=False)['action_type'].agg({'merchant_add_to_favorite':'count'})\n",
        "train_df = pd.merge(train_df, purchase_action, how='left')\n",
        "test_df = pd.merge(test_df, purchase_action, how='left')\n",
        "# ratio of actions/purchase\n",
        "train_df['mrate_click'] = train_df['merchant_click'] / train_df['merchant_sales']\n",
        "test_df['mrate_click'] = test_df['merchant_click'] / test_df['merchant_sales']\n",
        "train_df['mrate_cart'] = train_df['merchant_add_to_cart'] / train_df['merchant_sales']\n",
        "test_df['mrate_cart'] = test_df['merchant_add_to_cart'] / test_df['merchant_sales']\n",
        "train_df['mrate_favorite'] = train_df['merchant_add_to_favorite'] / train_df['merchant_sales']\n",
        "test_df['mrate_favorite'] = test_df['merchant_add_to_favorite'] / test_df['merchant_sales']"
      ],
      "execution_count": 0,
      "outputs": []
    },
    {
      "cell_type": "code",
      "metadata": {
        "id": "un47QK_faY-v",
        "colab_type": "code",
        "colab": {}
      },
      "source": [
        "# number of times the buyer buy an item\n",
        "purchase_action = user_log_df.loc[user_log_df['action_type'] == \"2\"]\n",
        "purchase_action = purchase_action.groupby(['user_id'], as_index=False)['action_type'].agg({'user_buy':'count'})\n",
        "train_df = pd.merge(train_df, purchase_action, how='left')\n",
        "test_df = pd.merge(test_df, purchase_action, how='left')\n",
        "# number of times the buyer click an item\n",
        "purchase_action = user_log_df.loc[user_log_df['action_type'] == \"0\"]\n",
        "purchase_action = purchase_action.groupby(['user_id'], as_index=False)['action_type'].agg({'user_click':'count'})\n",
        "train_df = pd.merge(train_df, purchase_action, how='left')\n",
        "test_df = pd.merge(test_df, purchase_action, how='left')\n",
        "# number of times the buyer add-to-cart an item\n",
        "purchase_action = user_log_df.loc[user_log_df['action_type'] == \"1\"]\n",
        "purchase_action = purchase_action.groupby(['user_id'], as_index=False)['action_type'].agg({'user_add_to_cart':'count'})\n",
        "train_df = pd.merge(train_df, purchase_action, how='left')\n",
        "test_df = pd.merge(test_df, purchase_action, how='left')\n",
        "# number of times the buyer add-to-favorite an item\n",
        "purchase_action = user_log_df.loc[user_log_df['action_type'] == \"3\"]\n",
        "purchase_action = purchase_action.groupby(['user_id'], as_index=False)['action_type'].agg({'user_add_to_favorite':'count'})\n",
        "train_df = pd.merge(train_df, purchase_action, how='left')\n",
        "test_df = pd.merge(test_df, purchase_action, how='left')\n",
        "# ratio of actions/purchase\n",
        "train_df['urate_click'] = train_df['user_click'] / train_df['user_buy']\n",
        "test_df['urate_click'] = test_df['user_click'] / test_df['user_buy']\n",
        "train_df['urate_cart'] = train_df['user_add_to_cart'] / train_df['user_buy']\n",
        "test_df['urate_cart'] = test_df['user_add_to_cart'] / test_df['user_buy']\n",
        "train_df['urate_favorite'] = train_df['user_add_to_favorite'] / train_df['user_buy']\n",
        "test_df['urate_favorite'] = test_df['user_add_to_favorite'] / test_df['user_buy']"
      ],
      "execution_count": 0,
      "outputs": []
    },
    {
      "cell_type": "code",
      "metadata": {
        "id": "8GgpjBWy_H-x",
        "colab_type": "code",
        "colab": {}
      },
      "source": [
        "# number of unique items clicked by the different sexual users in the merchant\n",
        "user_log_with_gender = pd.merge(user_log_df, user_info_df, on='user_id', how='left')\n",
        "num_of_items_clicked = user_log_with_gender.loc[user_log_with_gender['action_type'] == \"0\"]\n",
        "num_of_items_clicked = num_of_items_clicked.groupby(['merchant_id', 'item_id', 'gender'], as_index=False)['action_type'].agg({'cnt':'count'})\n",
        "num_of_items_clicked = num_of_items_clicked.groupby(['merchant_id', 'gender'], as_index=False)['item_id'].agg({'num_of_items_clicked_by_gender':'count'})\n",
        "train_df = pd.merge(train_df, num_of_items_clicked, how='left', on=['merchant_id', 'gender'])\n",
        "test_df = pd.merge(test_df, num_of_items_clicked, how='left', on=['merchant_id', 'gender'])"
      ],
      "execution_count": 0,
      "outputs": []
    },
    {
      "cell_type": "code",
      "metadata": {
        "id": "0j3PAbTDCczq",
        "colab_type": "code",
        "colab": {}
      },
      "source": [
        "# number of unique categories clicked by the different sexual users in the merchant\n",
        "num_of_items_clicked = user_log_with_gender.loc[user_log_with_gender['action_type'] == \"0\"]\n",
        "num_of_items_clicked = num_of_items_clicked.groupby(['merchant_id', 'cat_id', 'gender'], as_index=False)['action_type'].agg({'cnt':'count'})\n",
        "num_of_items_clicked = num_of_items_clicked.groupby(['merchant_id', 'gender'], as_index=False)['cat_id'].agg({'num_of_cat_clicked_by_gender':'count'})\n",
        "train_df = pd.merge(train_df, num_of_items_clicked, how='left', on=['merchant_id', 'gender'])\n",
        "test_df = pd.merge(test_df, num_of_items_clicked, how='left', on=['merchant_id', 'gender'])"
      ],
      "execution_count": 0,
      "outputs": []
    },
    {
      "cell_type": "code",
      "metadata": {
        "id": "ylTzbss8G735",
        "colab_type": "code",
        "colab": {}
      },
      "source": [
        "# average number of days users bought some item from the merchant, only users of a particular gender are considered\n",
        "num_of_items_buy = user_log_with_gender.loc[user_log_with_gender['action_type'] == \"2\"]\n",
        "num_of_items_buy = num_of_items_buy.groupby(['merchant_id', 'gender'], as_index=False)['action_type'].agg({'num_of_buy_by_gender':'count'})\n",
        "train_df = pd.merge(train_df, num_of_items_clicked, how='left', on=['merchant_id', 'gender'])\n",
        "test_df = pd.merge(test_df, num_of_items_clicked, how='left', on=['merchant_id', 'gender'])\n",
        "# average number of days users click some item from the merchant, only users of a particular gender are considered\n",
        "num_of_items_buy = user_log_with_gender.loc[user_log_with_gender['action_type'] == \"0\"]\n",
        "num_of_items_buy = num_of_items_buy.groupby(['merchant_id', 'gender'], as_index=False)['action_type'].agg({'num_of_click_by_gender':'count'})\n",
        "train_df = pd.merge(train_df, num_of_items_clicked, how='left', on=['merchant_id', 'gender'])\n",
        "test_df = pd.merge(test_df, num_of_items_clicked, how='left', on=['merchant_id', 'gender'])\n",
        "# average number of days users bought some item from the merchant, only users of a particular gender are considered\n",
        "num_of_items_buy = user_log_with_gender.loc[user_log_with_gender['action_type'] == \"1\"]\n",
        "num_of_items_buy = num_of_items_buy.groupby(['merchant_id', 'gender'], as_index=False)['action_type'].agg({'num_of_cart_by_gender':'count'})\n",
        "train_df = pd.merge(train_df, num_of_items_clicked, how='left', on=['merchant_id', 'gender'])\n",
        "test_df = pd.merge(test_df, num_of_items_clicked, how='left', on=['merchant_id', 'gender'])\n",
        "# average number of days users bought some item from the merchant, only users of a particular gender are considered\n",
        "num_of_items_buy = user_log_with_gender.loc[user_log_with_gender['action_type'] == \"3\"]\n",
        "num_of_items_buy = num_of_items_buy.groupby(['merchant_id', 'gender'], as_index=False)['action_type'].agg({'num_of_favorite_by_gender':'count'})\n",
        "train_df = pd.merge(train_df, num_of_items_clicked, how='left', on=['merchant_id', 'gender'])\n",
        "test_df = pd.merge(test_df, num_of_items_clicked, how='left', on=['merchant_id', 'gender'])"
      ],
      "execution_count": 0,
      "outputs": []
    },
    {
      "cell_type": "code",
      "metadata": {
        "id": "xbW814p8_NPU",
        "colab_type": "code",
        "colab": {
          "base_uri": "https://localhost:8080/",
          "height": 119
        },
        "outputId": "3413c090-97d0-4240-aa34-32645f78a40c"
      },
      "source": [
        "print(user_log_df.head())"
      ],
      "execution_count": 15,
      "outputs": [
        {
          "output_type": "stream",
          "text": [
            "  user_id  item_id cat_id merchant_id brand_id time_stamp action_type month\n",
            "0  328862   323294    833        2882     2661       0829           0    08\n",
            "1  328862   844400   1271        2882     2661       0829           0    08\n",
            "2  328862   575153   1271        2882     2661       0829           0    08\n",
            "3  328862   996875   1271        2882     2661       0829           0    08\n",
            "4  328862  1086186   1271        1253     1049       0829           0    08\n"
          ],
          "name": "stdout"
        }
      ]
    },
    {
      "cell_type": "code",
      "metadata": {
        "id": "SgzE7gl3J8X3",
        "colab_type": "code",
        "outputId": "4fceddb6-3494-4e36-9307-da87601bb053",
        "colab": {
          "base_uri": "https://localhost:8080/",
          "height": 289
        }
      },
      "source": [
        "train_df.fillna(0, inplace=True)\n",
        "test_df.fillna(0, inplace=True)\n",
        "print(train_df.head())\n",
        "print(test_df.head())\n",
        "train_df_store = train_df\n",
        "test_df_store = test_df\n",
        "submission_df = test_df"
      ],
      "execution_count": 16,
      "outputs": [
        {
          "output_type": "stream",
          "text": [
            "  user_id  ... num_of_cat_clicked_by_gender\n",
            "0   34176  ...                           20\n",
            "1   34176  ...                           24\n",
            "2   34176  ...                           15\n",
            "3   34176  ...                            5\n",
            "4  230784  ...                           26\n",
            "\n",
            "[5 rows x 41 columns]\n",
            "  user_id  ... num_of_cat_clicked_by_gender\n",
            "0  163968  ...                           23\n",
            "1  360576  ...                            5\n",
            "2   98688  ...                           20\n",
            "3   98688  ...                           21\n",
            "4  295296  ...                           10\n",
            "\n",
            "[5 rows x 41 columns]\n"
          ],
          "name": "stdout"
        }
      ]
    },
    {
      "cell_type": "code",
      "metadata": {
        "id": "X6UA3xuoJ8X6",
        "colab_type": "code",
        "colab": {}
      },
      "source": [
        "train_df = train_df.astype(float)\n",
        "test_df = test_df.astype(float)"
      ],
      "execution_count": 0,
      "outputs": []
    },
    {
      "cell_type": "code",
      "metadata": {
        "id": "mb8pvSzm6I6n",
        "colab_type": "code",
        "colab": {}
      },
      "source": [
        "# !pip install -U scikit-learn==0.22"
      ],
      "execution_count": 0,
      "outputs": []
    },
    {
      "cell_type": "code",
      "metadata": {
        "id": "P6v2EdYjJ8X8",
        "colab_type": "code",
        "colab": {}
      },
      "source": [
        "from numpy import loadtxt\n",
        "from xgboost import XGBClassifier\n",
        "from sklearn.model_selection import train_test_split\n",
        "from sklearn.metrics import accuracy_score, roc_auc_score, plot_roc_curve\n",
        "from sklearn import datasets, metrics, model_selection\n",
        "import matplotlib.pyplot as plt"
      ],
      "execution_count": 0,
      "outputs": []
    },
    {
      "cell_type": "code",
      "metadata": {
        "id": "afcwOkDRJ8YA",
        "colab_type": "code",
        "colab": {}
      },
      "source": [
        "last_col = train_df.pop(train_df.columns[2])\n",
        "train_df['label'] = last_col\n",
        "train_df = train_df.drop(columns=['user_id', 'merchant_id'])\n",
        "\n",
        "last_col = test_df.pop(test_df.columns[2])\n",
        "test_df['label'] = last_col\n",
        "test_df = test_df.drop(columns=['user_id', 'merchant_id'])"
      ],
      "execution_count": 0,
      "outputs": []
    },
    {
      "cell_type": "code",
      "metadata": {
        "id": "yAckxvsTJ8YE",
        "colab_type": "code",
        "colab": {}
      },
      "source": [
        "dataset = train_df.to_numpy()\n",
        "submission_dataset = test_df.to_numpy()"
      ],
      "execution_count": 0,
      "outputs": []
    },
    {
      "cell_type": "code",
      "metadata": {
        "id": "UnirLOS3J8YS",
        "colab_type": "code",
        "colab": {}
      },
      "source": [
        "# split data into X and y\n",
        "last_col_index = len(dataset[0]) - 1\n",
        "X = dataset[:,0:last_col_index]\n",
        "Y = dataset[:,last_col_index]\n",
        "\n",
        "X_S = submission_dataset[:,0:last_col_index]\n",
        "Y_S = submission_dataset[:,last_col_index]"
      ],
      "execution_count": 0,
      "outputs": []
    },
    {
      "cell_type": "code",
      "metadata": {
        "id": "aNXebUx6eJPe",
        "colab_type": "code",
        "outputId": "31bc5948-e724-445b-c1d3-64a88e1f4d8e",
        "colab": {
          "base_uri": "https://localhost:8080/",
          "height": 34
        }
      },
      "source": [
        "len(X)"
      ],
      "execution_count": 23,
      "outputs": [
        {
          "output_type": "execute_result",
          "data": {
            "text/plain": [
              "260864"
            ]
          },
          "metadata": {
            "tags": []
          },
          "execution_count": 23
        }
      ]
    },
    {
      "cell_type": "code",
      "metadata": {
        "id": "fdLlghx-J8YX",
        "colab_type": "code",
        "colab": {}
      },
      "source": [
        "# split data into train and test sets\n",
        "seed = 30\n",
        "test_size = 0.33\n",
        "X_train, X_test, y_train, y_test = train_test_split(X, Y, test_size=test_size, random_state=seed)"
      ],
      "execution_count": 0,
      "outputs": []
    },
    {
      "cell_type": "code",
      "metadata": {
        "id": "6SSrJpcIfxof",
        "colab_type": "code",
        "colab": {}
      },
      "source": [
        "# over sampling\n",
        "# from imblearn.over_sampling import SMOTE\n",
        "# sm = SMOTE(random_state=42)\n",
        "# X_train,y_train = sm.fit_sample(X_train, y_train)"
      ],
      "execution_count": 0,
      "outputs": []
    },
    {
      "cell_type": "code",
      "metadata": {
        "id": "_Ny9jbdnJ8Ya",
        "colab_type": "code",
        "outputId": "9dc0e7e2-08bc-4cda-8388-adaab6516119",
        "colab": {
          "base_uri": "https://localhost:8080/",
          "height": 136
        }
      },
      "source": [
        "# fit model no training data\n",
        "model = XGBClassifier(scale_pos_weight=10, eta=0.01, nrounds=2000, subsample=0.8, max_depth=7, min_child_weight=200)\n",
        "model.fit(X_train, y_train)"
      ],
      "execution_count": 39,
      "outputs": [
        {
          "output_type": "execute_result",
          "data": {
            "text/plain": [
              "XGBClassifier(base_score=0.5, booster='gbtree', colsample_bylevel=1,\n",
              "              colsample_bynode=1, colsample_bytree=1, eta=0.01, gamma=0,\n",
              "              learning_rate=0.1, max_delta_step=0, max_depth=7,\n",
              "              min_child_weight=200, missing=None, n_estimators=100, n_jobs=1,\n",
              "              nrounds=2000, nthread=None, objective='binary:logistic',\n",
              "              random_state=0, reg_alpha=0, reg_lambda=1, scale_pos_weight=10,\n",
              "              seed=None, silent=None, subsample=0.8, verbosity=1)"
            ]
          },
          "metadata": {
            "tags": []
          },
          "execution_count": 39
        }
      ]
    },
    {
      "cell_type": "code",
      "metadata": {
        "id": "bd1A29naJ8Yf",
        "colab_type": "code",
        "colab": {}
      },
      "source": [
        "# make predictions for test data\n",
        "y_pred = model.predict(X_test)\n",
        "predictions = [round(value) for value in y_pred]"
      ],
      "execution_count": 0,
      "outputs": []
    },
    {
      "cell_type": "code",
      "metadata": {
        "id": "4plRhRwHJ8Y1",
        "colab_type": "code",
        "outputId": "6824d132-bc5f-47df-9cda-92b19910cb3f",
        "colab": {
          "base_uri": "https://localhost:8080/",
          "height": 68
        }
      },
      "source": [
        "# evaluate predictions\n",
        "accuracy = accuracy_score(y_test, predictions)\n",
        "print(\"Accuracy: %.2f%%\" % (accuracy * 100.0))\n",
        "score = roc_auc_score(y_test, predictions)\n",
        "print(\"roc_auc_score: %.2f\" % (score))\n",
        "f1_score = metrics.f1_score(y_test, predictions)\n",
        "print(\"f1 score: %.2f\" % (f1_score))"
      ],
      "execution_count": 43,
      "outputs": [
        {
          "output_type": "stream",
          "text": [
            "Accuracy: 84.53%\n",
            "roc_auc_score: 0.60\n",
            "f1 score: 0.20\n"
          ],
          "name": "stdout"
        }
      ]
    },
    {
      "cell_type": "code",
      "metadata": {
        "id": "FVBo1LQ0xUuV",
        "colab_type": "code",
        "colab": {
          "base_uri": "https://localhost:8080/",
          "height": 804
        },
        "outputId": "5a60bafc-aeae-413f-caa2-77f68ace12cd"
      },
      "source": [
        "# plot\n",
        "metrics.plot_roc_curve(model, X_test, y_test)\n",
        "plt.show()\n",
        "metrics.plot_confusion_matrix(model, X_test, y_test)\n",
        "plt.show()\n",
        "metrics.plot_precision_recall_curve(model, X_test, y_test)\n",
        "plt.show()"
      ],
      "execution_count": 44,
      "outputs": [
        {
          "output_type": "display_data",
          "data": {
            "image/png": "[encoded data removed]",
            "text/plain": [
              "<Figure size 432x288 with 1 Axes>"
            ]
          },
          "metadata": {
            "tags": []
          }
        },
        {
          "output_type": "display_data",
          "data": {
            "image/png": "[encoded data removed]",
            "text/plain": [
              "<Figure size 432x288 with 2 Axes>"
            ]
          },
          "metadata": {
            "tags": []
          }
        },
        {
          "output_type": "display_data",
          "data": {
            "image/png": "[encoded data removed]",
            "text/plain": [
              "<Figure size 432x288 with 1 Axes>"
            ]
          },
          "metadata": {
            "tags": []
          }
        }
      ]
    },
    {
      "cell_type": "code",
      "metadata": {
        "id": "IulALBdEJ8ZC",
        "colab_type": "code",
        "colab": {}
      },
      "source": [
        "# make predictions for submission test data\n",
        "y_pred = model.predict_proba(X_S)\n",
        "predictions = [value for value in y_pred[:, 1]]\n",
        "submission_df['prob'] = predictions"
      ],
      "execution_count": 0,
      "outputs": []
    },
    {
      "cell_type": "code",
      "metadata": {
        "id": "OSYtcscfJ8ZK",
        "colab_type": "code",
        "colab": {}
      },
      "source": [
        "submission_df = submission_df.loc[:, ['user_id', 'merchant_id', 'prob']]\n",
        "submission_df.to_csv('result_submission.csv', index=False)\n",
        "files.download('result_submission.csv')"
      ],
      "execution_count": 0,
      "outputs": []
    },
    {
      "cell_type": "code",
      "metadata": {
        "id": "UgaD0jY9J8ZM",
        "colab_type": "code",
        "colab": {}
      },
      "source": [
        ""
      ],
      "execution_count": 0,
      "outputs": []
    }
  ]
}