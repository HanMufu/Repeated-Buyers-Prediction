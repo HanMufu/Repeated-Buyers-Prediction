{
 "cells": [
  {
   "cell_type": "code",
   "execution_count": 51,
   "metadata": {},
   "outputs": [
    {
     "name": "stdout",
     "output_type": "stream",
     "text": [
      "train_format1 loaded successful\n",
      "  user_id merchant_id label\n",
      "0   34176        3906     0\n",
      "1   34176         121     0\n",
      "2   34176        4356     1\n",
      "3   34176        2217     0\n",
      "4  230784        4818     0\n",
      "user_log_format1 loaded successful\n",
      "  user_id  item_id cat_id seller_id brand_id time_stamp action_type\n",
      "0  328862   323294    833      2882     2661       0829           0\n",
      "1  328862   844400   1271      2882     2661       0829           0\n",
      "2  328862   575153   1271      2882     2661       0829           0\n",
      "3  328862   996875   1271      2882     2661       0829           0\n",
      "4  328862  1086186   1271      1253     1049       0829           0\n",
      "user_info_format1 loaded successful\n",
      "  user_id age_range gender\n",
      "0  376517         6      1\n",
      "1  234512         5      0\n",
      "2  344532         5      0\n",
      "3  186135         5      0\n",
      "4   30230         5      0\n",
      "  user_id merchant_id label age_range gender\n",
      "0   34176        3906     0         6      0\n",
      "1   34176         121     0         6      0\n",
      "2   34176        4356     1         6      0\n",
      "3   34176        2217     0         6      0\n",
      "4  230784        4818     0         0      0\n"
     ]
    }
   ],
   "source": [
    "# -*- coding: UTF-8 -*-\n",
    "\n",
    "import pandas as pd\n",
    "import numpy as np\n",
    "\n",
    "# train_df = pd.read_csv('/Users/Rosemary/Downloads/data_format1/train_format1.csv', sep=',')\n",
    "train_df = pd.read_csv('/Users/hanmufu/Workspaces/Repeat_Buyers_Prediction/data_format1/train_format1.csv', dtype=str)\n",
    "print(\"train_format1 loaded successful\")\n",
    "print(train_df.head())\n",
    "\n",
    "# user_log_df = pd.read_csv('/Users/Rosemary/Downloads/data_format1/user_log_format1.csv')\n",
    "user_log_df = pd.read_csv('/Users/hanmufu/Workspaces/Repeat_Buyers_Prediction/data_format1/user_log_format1.csv', dtype=str)\n",
    "print(\"user_log_format1 loaded successful\")\n",
    "print(user_log_df.head())\n",
    "\n",
    "# user_info_df = pd.read_csv('/Users/Rosemary/Downloads/data_format1/user_info_format1.csv')\n",
    "user_info_df = pd.read_csv('/Users/hanmufu/Workspaces/Repeat_Buyers_Prediction/data_format1/user_info_format1.csv', dtype=str)\n",
    "print(\"user_info_format1 loaded successful\")\n",
    "print(user_info_df.head())\n",
    "\n",
    "train_with_user_info = pd.merge(train_df, user_info_df)\n",
    "print(train_with_user_info.head())\n",
    "\n",
    "user_log_df['month'] = user_log_df['time_stamp'].str[:2]"
   ]
  },
  {
   "cell_type": "code",
   "execution_count": 59,
   "metadata": {},
   "outputs": [],
   "source": [
    "user_log_df = user_log_df.rename(columns={'seller_id': 'merchant_id'})"
   ]
  },
  {
   "cell_type": "code",
   "execution_count": 105,
   "metadata": {},
   "outputs": [],
   "source": [
    "# 计算user和merchant产生多少次action 十一月和之前几个月的均值的差\n",
    "user_actions_at_nov = user_log_df.loc[user_log_df['month'] == \"11\"]\n",
    "user_actions_not_at_nov = user_log_df.loc[user_log_df['month'] != \"11\"]\n",
    "user_actions_not_at_nov = user_actions_not_at_nov.groupby(['user_id', 'merchant_id', 'month'], as_index=False)['month'].agg({'cnt':'count'})\n",
    "user_actions_not_at_nov['user_id/merchant_id'] = user_actions_not_at_nov['user_id'] + '/' + user_actions_not_at_nov['merchant_id']\n",
    "user_actions_not_at_nov = user_actions_not_at_nov.pivot(index='user_id/merchant_id', columns='month', values='cnt')\n",
    "user_actions_not_at_nov = user_actions_not_at_nov.fillna(0)\n",
    "user_actions_not_at_nov['mean_of_num_of_actions_not_in_nov'] = user_actions_not_at_nov.mean(axis=1)\n",
    "user_actions_not_at_nov['user_id/merchant_id'] = user_actions_not_at_nov.index\n",
    "user_actions_not_at_nov['user_id'] = user_actions_not_at_nov['user_id/merchant_id'].str.split('/').str[0]\n",
    "user_actions_not_at_nov['merchant_id'] = user_actions_not_at_nov['user_id/merchant_id'].str.split('/').str[1]\n",
    "user_actions_at_nov = user_actions_at_nov.groupby(['user_id', 'merchant_id', 'month'], as_index=False)['month'].agg({'cnt':'count'})\n",
    "res = pd.merge(user_actions_at_nov, user_actions_not_at_nov, on=['user_id', 'merchant_id'])\n",
    "res['user_action_deviation_between_nov_and_before'] = abs(res['cnt'] - res['mean_of_num_of_actions_not_in_nov'])\n",
    "train_df['user_action_deviation_between_nov_and_before'] = res['user_action_deviation_between_nov_and_before']\n"
   ]
  },
  {
   "cell_type": "code",
   "execution_count": 99,
   "metadata": {},
   "outputs": [],
   "source": []
  },
  {
   "cell_type": "code",
   "execution_count": 101,
   "metadata": {},
   "outputs": [],
   "source": []
  },
  {
   "cell_type": "code",
   "execution_count": 103,
   "metadata": {},
   "outputs": [],
   "source": []
  },
  {
   "cell_type": "code",
   "execution_count": 104,
   "metadata": {},
   "outputs": [
    {
     "name": "stdout",
     "output_type": "stream",
     "text": [
      "  user_id merchant_id month  cnt   05   06   07   08   09    10  \\\n",
      "0     100           1    11   31  0.0  0.0  0.0  0.0  7.0  61.0   \n",
      "1     100        1461    11    7  0.0  0.0  0.0  0.0  0.0   2.0   \n",
      "2     100        1860    11    6  0.0  0.0  0.0  0.0  0.0   1.0   \n",
      "3     100        2020    11    1  0.0  0.0  0.0  0.0  0.0   9.0   \n",
      "4     100        2669    11    3  0.0  0.0  0.0  0.0  0.0   1.0   \n",
      "\n",
      "   mean_of_num_of_actions_not_in_nov user_id/merchant_id  \\\n",
      "0                          11.333333               100/1   \n",
      "1                           0.333333            100/1461   \n",
      "2                           0.166667            100/1860   \n",
      "3                           1.500000            100/2020   \n",
      "4                           0.166667            100/2669   \n",
      "\n",
      "   action_variant_between_nov_and_before  \n",
      "0                              19.666667  \n",
      "1                               6.666667  \n",
      "2                               5.833333  \n",
      "3                               0.500000  \n",
      "4                               2.833333  \n"
     ]
    }
   ],
   "source": [
    "print(res.head())"
   ]
  },
  {
   "cell_type": "code",
   "execution_count": null,
   "metadata": {},
   "outputs": [],
   "source": [
    "# name columns\n",
    "user_actions_not_at_nov.columns = ['user_id', 'seller_id', 'month', 'may', 'jun', 'july', 'aug', 'sep', 'oct', 'nov']"
   ]
  },
  {
   "cell_type": "code",
   "execution_count": null,
   "metadata": {},
   "outputs": [],
   "source": [
    "user_actions_not_at_nov['may', 'jun', 'july', 'aug', 'sep', 'oct', 'nov'].mean()"
   ]
  }
 ],
 "metadata": {
  "kernelspec": {
   "display_name": "Python 3",
   "language": "python",
   "name": "python3"
  },
  "language_info": {
   "codemirror_mode": {
    "name": "ipython",
    "version": 3
   },
   "file_extension": ".py",
   "mimetype": "text/x-python",
   "name": "python",
   "nbconvert_exporter": "python",
   "pygments_lexer": "ipython3",
   "version": "3.6.8"
  }
 },
 "nbformat": 4,
 "nbformat_minor": 2
}
