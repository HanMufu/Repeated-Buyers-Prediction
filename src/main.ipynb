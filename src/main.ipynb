{
 "cells": [
  {
   "cell_type": "code",
   "execution_count": 11,
   "metadata": {},
   "outputs": [
    {
     "name": "stdout",
     "output_type": "stream",
     "text": [
      "train_format1 loaded successful\n",
      "   user_id  merchant_id  label\n",
      "0    34176         3906      0\n",
      "1    34176          121      0\n",
      "2    34176         4356      1\n",
      "3    34176         2217      0\n",
      "4   230784         4818      0\n",
      "user_log_format1 loaded successful\n",
      "   user_id  item_id  cat_id  seller_id  brand_id time_stamp  action_type\n",
      "0   328862   323294     833       2882    2661.0       0829            0\n",
      "1   328862   844400    1271       2882    2661.0       0829            0\n",
      "2   328862   575153    1271       2882    2661.0       0829            0\n",
      "3   328862   996875    1271       2882    2661.0       0829            0\n",
      "4   328862  1086186    1271       1253    1049.0       0829            0\n",
      "user_info_format1 loaded successful\n",
      "   user_id  age_range  gender\n",
      "0   376517        6.0     1.0\n",
      "1   234512        5.0     0.0\n",
      "2   344532        5.0     0.0\n",
      "3   186135        5.0     0.0\n",
      "4    30230        5.0     0.0\n",
      "   user_id  merchant_id  label  age_range  gender\n",
      "0    34176         3906      0        6.0     0.0\n",
      "1    34176          121      0        6.0     0.0\n",
      "2    34176         4356      1        6.0     0.0\n",
      "3    34176         2217      0        6.0     0.0\n",
      "4   230784         4818      0        0.0     0.0\n"
     ]
    }
   ],
   "source": [
    "# -*- coding: UTF-8 -*-\n",
    "\n",
    "import pandas as pd\n",
    "import numpy as np\n",
    "\n",
    "# train_df = pd.read_csv('/Users/Rosemary/Downloads/data_format1/train_format1.csv', sep=',')\n",
    "train_df = pd.read_csv('/Users/hanmufu/Workspaces/Repeat_Buyers_Prediction/data_format1/train_format1.csv', sep=',')\n",
    "print(\"train_format1 loaded successful\")\n",
    "print(train_df.head())\n",
    "\n",
    "# user_log_df = pd.read_csv('/Users/Rosemary/Downloads/data_format1/user_log_format1.csv')\n",
    "user_log_df = pd.read_csv('/Users/hanmufu/Workspaces/Repeat_Buyers_Prediction/data_format1/user_log_format1.csv', dtype={'time_stamp': str})\n",
    "print(\"user_log_format1 loaded successful\")\n",
    "print(user_log_df.head())\n",
    "\n",
    "# user_info_df = pd.read_csv('/Users/Rosemary/Downloads/data_format1/user_info_format1.csv')\n",
    "user_info_df = pd.read_csv('/Users/hanmufu/Workspaces/Repeat_Buyers_Prediction/data_format1/user_info_format1.csv')\n",
    "print(\"user_info_format1 loaded successful\")\n",
    "print(user_info_df.head())\n",
    "\n",
    "train_with_user_info = pd.merge(train_df, user_info_df)\n",
    "print(train_with_user_info.head())\n",
    "\n",
    "user_log_df['month'] = user_log_df['time_stamp'].str[:2]"
   ]
  },
  {
   "cell_type": "code",
   "execution_count": 32,
   "metadata": {},
   "outputs": [],
   "source": [
    "user_actions_at_nov = user_log_df.loc[user_log_df['month'] == \"11\"]\n",
    "user_actions_not_at_nov = user_log_df.loc[user_log_df['month'] != \"11\"]"
   ]
  },
  {
   "cell_type": "code",
   "execution_count": 33,
   "metadata": {},
   "outputs": [
    {
     "name": "stdout",
     "output_type": "stream",
     "text": [
      "   user_id  item_id  cat_id  seller_id  brand_id time_stamp  action_type month\n",
      "0   328862   323294     833       2882    2661.0       0829            0    08\n",
      "1   328862   844400    1271       2882    2661.0       0829            0    08\n",
      "2   328862   575153    1271       2882    2661.0       0829            0    08\n",
      "3   328862   996875    1271       2882    2661.0       0829            0    08\n",
      "4   328862  1086186    1271       1253    1049.0       0829            0    08\n"
     ]
    }
   ],
   "source": []
  },
  {
   "cell_type": "code",
   "execution_count": 14,
   "metadata": {},
   "outputs": [
    {
     "name": "stdout",
     "output_type": "stream",
     "text": [
      "   user_id  item_id  cat_id  seller_id  brand_id time_stamp  action_type month\n",
      "0   328862   323294     833       2882    2661.0       0829            0    08\n",
      "1   328862   844400    1271       2882    2661.0       0829            0    08\n",
      "2   328862   575153    1271       2882    2661.0       0829            0    08\n",
      "3   328862   996875    1271       2882    2661.0       0829            0    08\n",
      "4   328862  1086186    1271       1253    1049.0       0829            0    08\n"
     ]
    }
   ],
   "source": [
    "print(user_log_df.head())"
   ]
  },
  {
   "cell_type": "code",
   "execution_count": 29,
   "metadata": {},
   "outputs": [
    {
     "data": {
      "text/plain": [
       "54925330"
      ]
     },
     "execution_count": 29,
     "metadata": {},
     "output_type": "execute_result"
    }
   ],
   "source": [
    "len(user_log_df)"
   ]
  },
  {
   "cell_type": "code",
   "execution_count": null,
   "metadata": {},
   "outputs": [],
   "source": []
  }
 ],
 "metadata": {
  "kernelspec": {
   "display_name": "Python 3",
   "language": "python",
   "name": "python3"
  },
  "language_info": {
   "codemirror_mode": {
    "name": "ipython",
    "version": 3
   },
   "file_extension": ".py",
   "mimetype": "text/x-python",
   "name": "python",
   "nbconvert_exporter": "python",
   "pygments_lexer": "ipython3",
   "version": "3.6.8"
  }
 },
 "nbformat": 4,
 "nbformat_minor": 2
}
