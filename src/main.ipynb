{
 "cells": [
  {
   "cell_type": "code",
   "execution_count": 1,
   "metadata": {},
   "outputs": [
    {
     "name": "stdout",
     "output_type": "stream",
     "text": [
      "train_format1 loaded successful\n",
      "  user_id merchant_id label\n",
      "0   34176        3906     0\n",
      "1   34176         121     0\n",
      "2   34176        4356     1\n",
      "3   34176        2217     0\n",
      "4  230784        4818     0\n",
      "user_log_format1 loaded successful\n",
      "  user_id  item_id cat_id seller_id brand_id time_stamp action_type\n",
      "0  328862   323294    833      2882     2661       0829           0\n",
      "1  328862   844400   1271      2882     2661       0829           0\n",
      "2  328862   575153   1271      2882     2661       0829           0\n",
      "3  328862   996875   1271      2882     2661       0829           0\n",
      "4  328862  1086186   1271      1253     1049       0829           0\n",
      "user_info_format1 loaded successful\n",
      "  user_id age_range gender\n",
      "0  376517         6      1\n",
      "1  234512         5      0\n",
      "2  344532         5      0\n",
      "3  186135         5      0\n",
      "4   30230         5      0\n",
      "  user_id merchant_id label age_range gender\n",
      "0   34176        3906     0         6      0\n",
      "1   34176         121     0         6      0\n",
      "2   34176        4356     1         6      0\n",
      "3   34176        2217     0         6      0\n",
      "4  230784        4818     0         0      0\n"
     ]
    }
   ],
   "source": [
    "# -*- coding: UTF-8 -*-\n",
    "\n",
    "import pandas as pd\n",
    "import numpy as np\n",
    "\n",
    "# train_df = pd.read_csv('/Users/Rosemary/Downloads/data_format1/train_format1.csv', sep=',')\n",
    "train_df = pd.read_csv('/Users/hanmufu/Workspaces/Repeat_Buyers_Prediction/data_format1/train_format1.csv', dtype=str)\n",
    "print(\"train_format1 loaded successful\")\n",
    "print(train_df.head())\n",
    "\n",
    "# user_log_df = pd.read_csv('/Users/Rosemary/Downloads/data_format1/user_log_format1.csv')\n",
    "user_log_df = pd.read_csv('/Users/hanmufu/Workspaces/Repeat_Buyers_Prediction/data_format1/user_log_format1.csv', dtype=str)\n",
    "print(\"user_log_format1 loaded successful\")\n",
    "print(user_log_df.head())\n",
    "\n",
    "# user_info_df = pd.read_csv('/Users/Rosemary/Downloads/data_format1/user_info_format1.csv')\n",
    "user_info_df = pd.read_csv('/Users/hanmufu/Workspaces/Repeat_Buyers_Prediction/data_format1/user_info_format1.csv', dtype=str)\n",
    "print(\"user_info_format1 loaded successful\")\n",
    "print(user_info_df.head())\n",
    "\n",
    "train_with_user_info = pd.merge(train_df, user_info_df)\n",
    "print(train_with_user_info.head())\n",
    "\n",
    "user_log_df['month'] = user_log_df['time_stamp'].str[:2]"
   ]
  },
  {
   "cell_type": "code",
   "execution_count": 2,
   "metadata": {},
   "outputs": [],
   "source": [
    "user_log_df = user_log_df.rename(columns={'seller_id': 'merchant_id'})"
   ]
  },
  {
   "cell_type": "code",
   "execution_count": 3,
   "metadata": {},
   "outputs": [],
   "source": [
    "# add user age and gender into train_df\n",
    "train_df = pd.merge(train_df, user_info_df, on=['user_id'])"
   ]
  },
  {
   "cell_type": "code",
   "execution_count": 4,
   "metadata": {},
   "outputs": [],
   "source": [
    "# 计算user和merchant产生多少次action 十一月和之前几个月的均值的差\n",
    "# Deviation of user's action between Nov and before\n",
    "user_actions_at_nov = user_log_df.loc[user_log_df['month'] == \"11\"]\n",
    "user_actions_not_at_nov = user_log_df.loc[user_log_df['month'] != \"11\"]\n",
    "user_actions_not_at_nov = user_actions_not_at_nov.groupby(['user_id', 'merchant_id', 'month'], as_index=False)['month'].agg({'cnt':'count'})\n",
    "user_actions_not_at_nov['user_id/merchant_id'] = user_actions_not_at_nov['user_id'] + '/' + user_actions_not_at_nov['merchant_id']\n",
    "user_actions_not_at_nov = user_actions_not_at_nov.pivot(index='user_id/merchant_id', columns='month', values='cnt')\n",
    "user_actions_not_at_nov = user_actions_not_at_nov.fillna(0)\n",
    "user_actions_not_at_nov['mean_of_num_of_actions_not_in_nov'] = user_actions_not_at_nov.mean(axis=1)\n",
    "user_actions_not_at_nov['user_id/merchant_id'] = user_actions_not_at_nov.index\n",
    "user_actions_not_at_nov['user_id'] = user_actions_not_at_nov['user_id/merchant_id'].str.split('/').str[0]\n",
    "user_actions_not_at_nov['merchant_id'] = user_actions_not_at_nov['user_id/merchant_id'].str.split('/').str[1]\n",
    "user_actions_at_nov = user_actions_at_nov.groupby(['user_id', 'merchant_id', 'month'], as_index=False)['month'].agg({'cnt':'count'})\n",
    "res = pd.merge(user_actions_at_nov, user_actions_not_at_nov, on=['user_id', 'merchant_id'])\n",
    "res['user_action_deviation_between_nov_and_before'] = abs(res['cnt'] - res['mean_of_num_of_actions_not_in_nov'])\n",
    "res = res.loc[:, ['user_id', 'merchant_id', 'user_action_deviation_between_nov_and_before']]\n",
    "train_df = pd.merge(train_df, res, on=['user_id', 'merchant_id'])"
   ]
  },
  {
   "cell_type": "code",
   "execution_count": 5,
   "metadata": {},
   "outputs": [],
   "source": [
    "# Number of user interactions with this merchant before Nov\n",
    "user_actions_not_at_nov = user_log_df.loc[user_log_df['month'] != \"11\"]\n",
    "user_actions_not_at_nov = user_actions_not_at_nov.groupby(['user_id', 'merchant_id'], as_index=False)['action_type'].agg({'num_of_interactions_before_nov':'count'})\n",
    "train_df = pd.merge(train_df, user_actions_not_at_nov, on=['user_id', 'merchant_id'])"
   ]
  },
  {
   "cell_type": "code",
   "execution_count": 6,
   "metadata": {},
   "outputs": [],
   "source": [
    "# 这个user和这个merchant的interaction 的均值和方差 （5-11月）\n",
    "user_actions_at_nov = user_log_df.loc[user_log_df['month'] == \"11\"]\n",
    "user_actions_not_at_nov = user_log_df.loc[user_log_df['month'] != \"11\"]\n",
    "user_actions_not_at_nov = user_actions_not_at_nov.groupby(['user_id', 'merchant_id', 'month'], as_index=False)['month'].agg({'cnt':'count'})\n",
    "user_actions_not_at_nov['user_id/merchant_id'] = user_actions_not_at_nov['user_id'] + '/' + user_actions_not_at_nov['merchant_id']\n",
    "user_actions_not_at_nov = user_actions_not_at_nov.pivot(index='user_id/merchant_id', columns='month', values='cnt')\n",
    "user_actions_not_at_nov = user_actions_not_at_nov.fillna(0)\n",
    "user_actions_not_at_nov['user_id/merchant_id'] = user_actions_not_at_nov.index\n",
    "user_actions_not_at_nov['user_id'] = user_actions_not_at_nov['user_id/merchant_id'].str.split('/').str[0]\n",
    "user_actions_not_at_nov['merchant_id'] = user_actions_not_at_nov['user_id/merchant_id'].str.split('/').str[1]\n",
    "user_actions_at_nov = user_actions_at_nov.groupby(['user_id', 'merchant_id', 'month'], as_index=False)['month'].agg({'cnt':'count'})\n",
    "res = pd.merge(user_actions_at_nov, user_actions_not_at_nov, on=['user_id', 'merchant_id'])\n",
    "res_for_mean_and_deviation = res.loc[:, ['cnt', '05', '06', '07', '08', '09', '10']]\n",
    "res['mean_for_actions_num_from_may_to_nov'] = res_for_mean_and_deviation.mean(axis=1)\n",
    "res['std_for_actions_num_from_may_to_nov'] = res_for_mean_and_deviation.std(axis=1)\n",
    "res = res.loc[:, ['user_id', 'merchant_id', 'mean_for_actions_num_from_may_to_nov', 'std_for_actions_num_from_may_to_nov']]\n",
    "train_df = pd.merge(train_df, res, on=['user_id', 'merchant_id'])"
   ]
  },
  {
   "cell_type": "code",
   "execution_count": 7,
   "metadata": {},
   "outputs": [],
   "source": [
    "# res.index = res['user_id/merchant_id']"
   ]
  },
  {
   "cell_type": "code",
   "execution_count": null,
   "metadata": {},
   "outputs": [],
   "source": []
  },
  {
   "cell_type": "code",
   "execution_count": 8,
   "metadata": {},
   "outputs": [
    {
     "name": "stdout",
     "output_type": "stream",
     "text": [
      "  user_id merchant_id label age_range gender  \\\n",
      "0   34176        3906     0         6      0   \n",
      "1  103296        2482     0         6      0   \n",
      "2  104064        3870     0         6      1   \n",
      "3  104064         669     0         6      1   \n",
      "4  235392        1056     0         4      0   \n",
      "\n",
      "   user_action_deviation_between_nov_and_before  \\\n",
      "0                                      5.166667   \n",
      "1                                     10.833333   \n",
      "2                                      6.333333   \n",
      "3                                     16.000000   \n",
      "4                                      5.666667   \n",
      "\n",
      "   num_of_interactions_before_nov  mean_for_actions_num_from_may_to_nov  \\\n",
      "0                              29                              5.571429   \n",
      "1                               1                              1.714286   \n",
      "2                              10                              2.571429   \n",
      "3                              18                              5.285714   \n",
      "4                               8                              2.142857   \n",
      "\n",
      "   std_for_actions_num_from_may_to_nov  \n",
      "0                            10.982670  \n",
      "1                             4.111540  \n",
      "2                             4.076647  \n",
      "3                             8.420497  \n",
      "4                             3.338092  \n"
     ]
    }
   ],
   "source": [
    "print(train_df.head())"
   ]
  },
  {
   "cell_type": "code",
   "execution_count": 9,
   "metadata": {},
   "outputs": [],
   "source": [
    "from numpy import loadtxt\n",
    "from xgboost import XGBClassifier\n",
    "from sklearn.model_selection import train_test_split\n",
    "from sklearn.metrics import accuracy_score"
   ]
  },
  {
   "cell_type": "code",
   "execution_count": 10,
   "metadata": {},
   "outputs": [],
   "source": [
    "last_col = train_df.pop(train_df.columns[2])\n",
    "train_df['label'] = last_col\n",
    "train_df = train_df.drop(columns=['user_id', 'merchant_id'])"
   ]
  },
  {
   "cell_type": "code",
   "execution_count": 11,
   "metadata": {},
   "outputs": [],
   "source": [
    "dataset = train_df.to_numpy()"
   ]
  },
  {
   "cell_type": "code",
   "execution_count": 12,
   "metadata": {},
   "outputs": [],
   "source": [
    "# split data into X and y\n",
    "X = dataset[:,0:6]\n",
    "Y = dataset[:,6]"
   ]
  },
  {
   "cell_type": "code",
   "execution_count": 13,
   "metadata": {},
   "outputs": [],
   "source": [
    "# split data into train and test sets\n",
    "seed = 7\n",
    "test_size = 0.33\n",
    "X_train, X_test, y_train, y_test = train_test_split(X, Y, test_size=test_size, random_state=seed)"
   ]
  },
  {
   "cell_type": "code",
   "execution_count": 14,
   "metadata": {},
   "outputs": [
    {
     "data": {
      "text/plain": [
       "XGBClassifier(base_score=0.5, booster='gbtree', colsample_bylevel=1,\n",
       "       colsample_bynode=1, colsample_bytree=1, gamma=0, learning_rate=0.1,\n",
       "       max_delta_step=0, max_depth=3, min_child_weight=1, missing=None,\n",
       "       n_estimators=100, n_jobs=1, nthread=None,\n",
       "       objective='binary:logistic', random_state=0, reg_alpha=0,\n",
       "       reg_lambda=1, scale_pos_weight=1, seed=None, silent=None,\n",
       "       subsample=1, verbosity=1)"
      ]
     },
     "execution_count": 14,
     "metadata": {},
     "output_type": "execute_result"
    }
   ],
   "source": [
    "# fit model no training data\n",
    "import os\n",
    "os.environ['KMP_DUPLICATE_LIB_OK']='True'\n",
    "model = XGBClassifier()\n",
    "model.fit(X_train, y_train)"
   ]
  },
  {
   "cell_type": "code",
   "execution_count": 15,
   "metadata": {},
   "outputs": [
    {
     "name": "stdout",
     "output_type": "stream",
     "text": [
      "XGBClassifier(base_score=0.5, booster='gbtree', colsample_bylevel=1,\n",
      "       colsample_bynode=1, colsample_bytree=1, gamma=0, learning_rate=0.1,\n",
      "       max_delta_step=0, max_depth=3, min_child_weight=1, missing=None,\n",
      "       n_estimators=100, n_jobs=1, nthread=None,\n",
      "       objective='binary:logistic', random_state=0, reg_alpha=0,\n",
      "       reg_lambda=1, scale_pos_weight=1, seed=None, silent=None,\n",
      "       subsample=1, verbosity=1)\n"
     ]
    }
   ],
   "source": [
    "print(model)"
   ]
  },
  {
   "cell_type": "code",
   "execution_count": 20,
   "metadata": {},
   "outputs": [],
   "source": [
    "# make predictions for test data\n",
    "y_pred = model.predict(X_test)\n",
    "predictions = [value for value in y_pred]"
   ]
  },
  {
   "cell_type": "code",
   "execution_count": 21,
   "metadata": {},
   "outputs": [
    {
     "name": "stdout",
     "output_type": "stream",
     "text": [
      "Accuracy: 89.83%\n"
     ]
    }
   ],
   "source": [
    "# evaluate predictions\n",
    "accuracy = accuracy_score(y_test, predictions)\n",
    "print(\"Accuracy: %.2f%%\" % (accuracy * 100.0))"
   ]
  },
  {
   "cell_type": "code",
   "execution_count": null,
   "metadata": {},
   "outputs": [],
   "source": []
  }
 ],
 "metadata": {
  "kernelspec": {
   "display_name": "Python 3",
   "language": "python",
   "name": "python3"
  },
  "language_info": {
   "codemirror_mode": {
    "name": "ipython",
    "version": 3
   },
   "file_extension": ".py",
   "mimetype": "text/x-python",
   "name": "python",
   "nbconvert_exporter": "python",
   "pygments_lexer": "ipython3",
   "version": "3.6.8"
  }
 },
 "nbformat": 4,
 "nbformat_minor": 2
}
